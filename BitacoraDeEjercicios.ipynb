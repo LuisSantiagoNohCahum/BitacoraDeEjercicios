{
 "cells": [
  {
   "cell_type": "markdown",
   "metadata": {},
   "source": [
    "##### INSTITUTO TECNOLÓGICO SUPERIOR DE VALLADOLID\n",
    "\n",
    "**Materia:** Métodos Numéricos \n",
    "\n",
    "Cuarto Semestre – A\n",
    "\n",
    "**Docente:** *M.M. Jorge Manuel Pool Cen*\n",
    "\n",
    "**Alumno:** *Luis Santiago Noh Cahum*\n",
    "\n",
    "*Matricula:* 19070049\n",
    "\n",
    "**Unidad 2**\n",
    "\n",
    "Métodos de solución de ecuaciones\n",
    "\n",
    "**Actividad 2.1**\n",
    "\n",
    "*Bitácora de ejercicios*\n",
    "\n",
    "**Fecha de entrega:** 21 de abril de 2021\n"
   ]
  },
  {
   "cell_type": "markdown",
   "metadata": {},
   "source": [
    "## Metodo de Biseccion - Ejercicios"
   ]
  },
  {
   "cell_type": "code",
   "execution_count": 121,
   "metadata": {},
   "outputs": [],
   "source": [
    "\n",
    "def getError(xf, xi):\n",
    "    return abs((xf-xi)/xf)\n",
    "\n",
    "def metodo_biseccion(fun, xi, xs, error, iteraciones):\n",
    "    if fun(xi)*fun(xs)<0:\n",
    "        e = 1\n",
    "        i=0\n",
    "        xe=0;\n",
    "        print('{:^10}{:^10}{:^10}{:^10}{:^10}{:^10}{:^12}{:^10}'.format('iter.','xi','xS','xr','f(xi)','f(xr)','f(xi)*f(xr)','error'))\n",
    "        while (i < iteraciones):\n",
    "            xr = (xi+xs)/2\n",
    "            if i>0:\n",
    "                e = getError(xr, xe)\n",
    "            xe=xr\n",
    "            fxi=fun(xi)\n",
    "            fxr=fun(xr)\n",
    "            signo=fxr*fxi\n",
    "            print('{:^10}{:^10.3f}{:^10.3f}{:^10.4f}{:^10.4f}{:^10.4f}{:^12.4f}{:^10.6f}'.format((i+1),xi,xs,xr,fxi,fxr,signo,e))\n",
    "            if e<error or signo==0:\n",
    "                return \"\\n\\tEl valor de la raiz (aproximadamente) es: \"+ str(xr)\n",
    "                break\n",
    "            else:\n",
    "                if signo <0:\n",
    "                    xs=xr\n",
    "                    i+=1\n",
    "                if signo >0:\n",
    "                    xi=xr\n",
    "                    i+=1\n",
    "    else: \n",
    "        return \"No hay raices en el intervalo dado, ingrese otro intervalo\"\n",
    "    return \"\\tNO SE ENCONTRO LA RAIZ EXACTA AUN\\n\\tLa raiz aproximada despues de \" + str(i)+\" iteraciones es: \"+ str(xr)\n",
    "        "
   ]
  },
  {
   "cell_type": "markdown",
   "metadata": {},
   "source": [
    "### Ejercicio 1. \n",
    "Un proyectil de M=2 gm se ha lanzado en forma vertical al aire y está descendiendo a su velocidad terminal. Dicha velocidad se determina mediante la ecuación gM=Ddrag donde g es la gravedad y M es la masa; esta ecuación se puede escribir después de evaluar las constantes como (2*9.81)/1000=1.4*10^(-5) v^1.5+1.15*10^(-5) v^2\n",
    "\n",
    "Donde v es la velocidad terminal en m/seg. El primer término del lado derecho representa la fuerza de fricción y el segundo la fuerza de la presión. Determinar la velocidad terminal mediante el método de bisección con una tolerancia de 0.001.\n",
    "+ **En la libreta se hizo con error absoluto, en este caso se realizara con error relativo**\n"
   ]
  },
  {
   "cell_type": "code",
   "execution_count": 137,
   "metadata": {},
   "outputs": [
    {
     "name": "stdout",
     "output_type": "stream",
     "text": [
      "  iter.       xi        xS        xr      f(xi)     f(xr)   f(xi)*f(xr)   error   \n",
      "    1       30.000    40.000   35.0000    0.0070    0.0026     0.0000    1.000000 \n",
      "    2       35.000    40.000   37.5000    0.0026    0.0002     0.0000    0.066667 \n",
      "    3       37.500    40.000   38.7500    0.0002   -0.0010    -0.0000    0.032258 \n",
      "    4       37.500    38.750   38.1250    0.0002   -0.0004    -0.0000    0.016393 \n",
      "    5       37.500    38.125   37.8125    0.0002   -0.0001    -0.0000    0.008264 \n",
      "    6       37.500    37.812   37.6562    0.0002    0.0001     0.0000    0.004149 \n",
      "    7       37.656    37.812   37.7344    0.0001    0.0000     0.0000    0.002070 \n",
      "    8       37.734    37.812   37.7734    0.0000   -0.0000    -0.0000    0.001034 \n",
      "    9       37.734    37.773   37.7539    0.0000   -0.0000    -0.0000    0.000517 \n",
      "    10      37.734    37.754   37.7441    0.0000   -0.0000    -0.0000    0.000259 \n",
      "    11      37.734    37.744   37.7393    0.0000   -0.0000    -0.0000    0.000129 \n",
      "    12      37.734    37.739   37.7368    0.0000   -0.0000    -0.0000    0.000065 \n",
      "\n",
      "\tEl valor de la raiz (aproximadamente) es: 37.73681640625\n"
     ]
    }
   ],
   "source": [
    "def fun(x):\n",
    "    return -0.0000115*x**2 - 0.000014*x**(1.5)+0.01962\n",
    "\n",
    "print(metodo_biseccion(fun,30,40, 0.0001,16))"
   ]
  },
  {
   "cell_type": "markdown",
   "metadata": {},
   "source": [
    "### Ejercicio 2. \n",
    "Encuentre la raíz de f(x)=tan⁡(x)-0.1x en el intervalo [π,1.5π] mediante el método de newton con una tolerancia de 0.0001"
   ]
  },
  {
   "cell_type": "code",
   "execution_count": 123,
   "metadata": {},
   "outputs": [
    {
     "name": "stdout",
     "output_type": "stream",
     "text": [
      "  iter.       xi        xS        xr      f(xi)     f(xr)   f(xi)*f(xr)   error   \n",
      "    1       3.142     4.712     3.9270   -0.3142    0.6073    -0.1908    1.000000 \n",
      "    2       3.142     3.927     3.5343   -0.3142    0.0608    -0.0191    0.111111 \n",
      "    3       3.142     3.534     3.3379   -0.3142   -0.1349     0.0424    0.058824 \n",
      "    4       3.338     3.534     3.4361   -0.1349   -0.0403     0.0054    0.028571 \n",
      "    5       3.436     3.534     3.4852   -0.0403    0.0093    -0.0004    0.014085 \n",
      "    6       3.436     3.485     3.4607   -0.0403   -0.0157     0.0006    0.007092 \n",
      "    7       3.461     3.485     3.4729   -0.0157   -0.0033     0.0001    0.003534 \n",
      "    8       3.473     3.485     3.4791   -0.0033    0.0030    -0.0000    0.001764 \n",
      "    9       3.473     3.479     3.4760   -0.0033   -0.0001     0.0000    0.000883 \n",
      "    10      3.476     3.479     3.4775   -0.0001    0.0014    -0.0000    0.000441 \n",
      "    11      3.476     3.478     3.4768   -0.0001    0.0006    -0.0000    0.000221 \n",
      "    12      3.476     3.477     3.4764   -0.0001    0.0002    -0.0000    0.000110 \n",
      "    13      3.476     3.476     3.4762   -0.0001    0.0001    -0.0000    0.000055 \n",
      "\n",
      "\tEl valor de la raiz (aproximadamente) es: 3.4761922129473484\n"
     ]
    }
   ],
   "source": [
    "import math\n",
    "def fun(x):\n",
    "    return math.tan(x)-0.1*x\n",
    "\n",
    "print(metodo_biseccion(fun,math.pi,math.pi*1.5, 0.0001,16))"
   ]
  },
  {
   "cell_type": "markdown",
   "metadata": {},
   "source": [
    "### Ejercicio 3. \n",
    "Hallé la raíz de la función  f(x)=x^4-2x^3-4x^2+4=0, en las regiones. Utilice un 0.001 de error (esta en relativo, no en porcentual)\n",
    "\t\n",
    "    [-2,-1]\n",
    "\t[0,2]\n"
   ]
  },
  {
   "cell_type": "code",
   "execution_count": 124,
   "metadata": {},
   "outputs": [
    {
     "name": "stdout",
     "output_type": "stream",
     "text": [
      "No hay raices en el intervalo dado, ingrese otro intervalo\n"
     ]
    }
   ],
   "source": [
    "def fun(x):\n",
    "    return x**4-2*x**3-4*x**2+4\n",
    "\n",
    "print(metodo_biseccion(fun,-2,-1, 0.001,16))"
   ]
  },
  {
   "cell_type": "code",
   "execution_count": 125,
   "metadata": {},
   "outputs": [
    {
     "name": "stdout",
     "output_type": "stream",
     "text": [
      "  iter.       xi        xS        xr      f(xi)     f(xr)   f(xi)*f(xr)   error   \n",
      "    1       0.000     2.000     1.0000    4.0000   -1.0000    -4.0000    1.000000 \n",
      "    2       0.000     1.000     0.5000    4.0000    2.8125    11.2500    1.000000 \n",
      "    3       0.500     1.000     0.7500    2.8125    1.2227     3.4387    0.333333 \n",
      "    4       0.750     1.000     0.8750    1.2227    0.1838     0.2248    0.142857 \n",
      "    5       0.875     1.000     0.9375    0.1838   -0.3911    -0.0719    0.066667 \n",
      "    6       0.875     0.938     0.9062    0.1838   -0.0992    -0.0182    0.034483 \n",
      "    7       0.875     0.906     0.8906    0.1838    0.0434     0.0080    0.017544 \n",
      "    8       0.891     0.906     0.8984    0.0434   -0.0276    -0.0012    0.008696 \n",
      "    9       0.891     0.898     0.8945    0.0434    0.0080     0.0003    0.004367 \n",
      "    10      0.895     0.898     0.8965    0.0080   -0.0098    -0.0001    0.002179 \n",
      "    11      0.895     0.896     0.8955    0.0080   -0.0009    -0.0000    0.001091 \n",
      "    12      0.895     0.896     0.8950    0.0080    0.0035     0.0000    0.000546 \n",
      "\n",
      "\tEl valor de la raiz (aproximadamente) es: 0.89501953125\n"
     ]
    }
   ],
   "source": [
    "def fun(x):\n",
    "    return x**4-2*x**3-4*x**2+4\n",
    "\n",
    "print(metodo_biseccion(fun,0,2, 0.001,16))"
   ]
  },
  {
   "cell_type": "markdown",
   "metadata": {},
   "source": [
    "### Ejercicio 4. \n",
    "Hallé la raíz de la función  f(x)=tan⁡x, en las región [4,4.5]. Considere un error del 0.001.\n",
    "\n",
    "\n",
    "+ La unica manera de obtener la solucion que esta en el archivo word es reescribiendo la formula a x-tan⁡x=0"
   ]
  },
  {
   "cell_type": "code",
   "execution_count": 126,
   "metadata": {},
   "outputs": [
    {
     "name": "stdout",
     "output_type": "stream",
     "text": [
      "  iter.       xi        xS        xr      f(xi)     f(xr)   f(xi)*f(xr)   error   \n",
      "    1       4.000     4.500     4.2500    2.8422    2.2437     6.3770    1.000000 \n",
      "    2       4.250     4.500     4.3750    2.2437    1.5244     3.4203    0.028571 \n",
      "    3       4.375     4.500     4.4375    1.5244    0.8918     1.3594    0.014085 \n",
      "    4       4.438     4.500     4.4688    0.8918    0.4459     0.3976    0.006993 \n",
      "    5       4.469     4.500     4.4844    0.4459    0.1749     0.0780    0.003484 \n",
      "    6       4.484     4.500     4.4922    0.1749    0.0245     0.0043    0.001739 \n",
      "    7       4.492     4.500     4.4961    0.0245   -0.0549    -0.0013    0.000869 \n",
      "    8       4.492     4.496     4.4941    0.0245   -0.0148    -0.0004    0.000435 \n",
      "    9       4.492     4.494     4.4932    0.0245    0.0049     0.0001    0.000217 \n",
      "    10      4.493     4.494     4.4937    0.0049   -0.0049    -0.0000    0.000109 \n",
      "    11      4.493     4.494     4.4934    0.0049    0.0000     0.0000    0.000054 \n",
      "\n",
      "\tEl valor de la raiz (aproximadamente) es: 4.493408203125\n"
     ]
    }
   ],
   "source": [
    "import math\n",
    "def fun(x):\n",
    "    return x-math.tan(x)\n",
    "\n",
    "print(metodo_biseccion(fun,4,4.5, 0.0001,16))"
   ]
  },
  {
   "cell_type": "markdown",
   "metadata": {},
   "source": [
    "## Metodo de Newton - Ejercicios"
   ]
  },
  {
   "cell_type": "code",
   "execution_count": 127,
   "metadata": {},
   "outputs": [],
   "source": [
    "\n",
    "def getError(xf, xi):\n",
    "    return abs((xf-xi)/xf)\n",
    "\n",
    "def metodo_newton(fun, fun_der,xi, error, iteraciones):\n",
    "    e = 1\n",
    "    i=0\n",
    "    print('{:^10}{:^10}{:^10}{:^10}{:^10}{:^10}'.format('iter.','xi','f(xi)','f´(xi)','xi+1','Error'))\n",
    "    while (i < iteraciones):\n",
    "        xf = xi-(fun(xi)/fun_der(xi))\n",
    "        e = getError(xf, xi)\n",
    "        print('{:^10}{:^10.5f}{:^10.5f}{:^10.5f}{:^10.5f}{:^10.5f}'.format((i+1),xi,fun(xi),fun_der(xi),xf,e))\n",
    "        if e<error:\n",
    "            return \"\\n\\tEl valor de la raiz (aproximadamente) es: \"+str(\"{0:.5f}\".format(xf))\n",
    "            break\n",
    "        else:\n",
    "            xi=xf\n",
    "            i+=1  \n",
    "    return \"\\n\\tSE ALCANZO EL NUMERO MAXIMO DE ITERACIONES\\n\\tLa aproximacion alcanzada para x con \"+str(i)+\" iteraciones es: \"+str(\"{0:.5f}\".format(xf))\n",
    "\n",
    "            \n"
   ]
  },
  {
   "cell_type": "markdown",
   "metadata": {},
   "source": [
    "+ ### **Ejercicio 2 con metodo de newthon**"
   ]
  },
  {
   "cell_type": "code",
   "execution_count": 128,
   "metadata": {},
   "outputs": [
    {
     "name": "stdout",
     "output_type": "stream",
     "text": [
      "  iter.       xi      f(xi)     f´(xi)     xi+1     Error   \n",
      "    1      3.14159   -0.31416  0.90000   3.49066   0.10000  \n",
      "    2      3.49066   0.01490   1.03247   3.47622   0.00415  \n",
      "    3      3.47622   0.00008   1.02090   3.47614   0.00002  \n",
      "\n",
      "\tEl valor de la raiz (aproximadamente) es: 3.47614\n"
     ]
    }
   ],
   "source": [
    "import math\n",
    "def fun(x):\n",
    "    return math.tan(x)-0.1*x\n",
    "def fun_der (x):\n",
    "    return (1/math.cos(x))**2-0.1\n",
    "\n",
    "print(metodo_newton(fun,fun_der,math.pi, 0.0001,16))"
   ]
  },
  {
   "cell_type": "markdown",
   "metadata": {},
   "source": [
    "### Ejercicio 5. \n",
    "Utilice Xo=1 y determina la raíz con un error de 0.01 de la función x^4-3x^2-3."
   ]
  },
  {
   "cell_type": "code",
   "execution_count": 129,
   "metadata": {},
   "outputs": [
    {
     "name": "stdout",
     "output_type": "stream",
     "text": [
      "  iter.       xi      f(xi)     f´(xi)     xi+1     Error   \n",
      "    1      1.00000   -5.00000  -2.00000  -1.50000  1.66667  \n",
      "    2      -1.50000  -4.68750  -4.50000  -2.54167  0.40984  \n",
      "    3      -2.54167  19.35229 -50.42737  -2.15790  0.17784  \n",
      "    4      -2.15790  4.71373  -27.24598  -1.98489  0.08716  \n",
      "    5      -1.98489  0.70266  -19.37104  -1.94862  0.01862  \n",
      "    6      -1.94862  0.02678  -17.90490  -1.94713  0.00077  \n",
      "\n",
      "\tEl valor de la raiz (aproximadamente) es: -1.94713\n"
     ]
    }
   ],
   "source": [
    "def fun(x):\n",
    "    return x**4 - 3*x**2 - 3\n",
    "\n",
    "def fun_der (x):\n",
    "    return 4*x**3 - 6*x\n",
    "\n",
    "print(metodo_newton(fun, fun_der,1, 0.01,20))"
   ]
  },
  {
   "cell_type": "markdown",
   "metadata": {},
   "source": [
    "### Ejercicio 6. \n",
    "Sea f(x)=x^2-6, y utilice x0=1 para determinar la raíz, considere un error del 0.001"
   ]
  },
  {
   "cell_type": "code",
   "execution_count": 130,
   "metadata": {},
   "outputs": [
    {
     "name": "stdout",
     "output_type": "stream",
     "text": [
      "  iter.       xi      f(xi)     f´(xi)     xi+1     Error   \n",
      "    1      1.00000   -5.00000  2.00000   3.50000   0.71429  \n",
      "    2      3.50000   6.25000   7.00000   2.60714   0.34247  \n",
      "    3      2.60714   0.79719   5.21429   2.45426   0.06229  \n",
      "    4      2.45426   0.02337   4.90851   2.44949   0.00194  \n",
      "    5      2.44949   0.00002   4.89899   2.44949   0.00000  \n",
      "\n",
      "\tEl valor de la raiz (aproximadamente) es: 2.44949\n"
     ]
    }
   ],
   "source": [
    "def fun(x):\n",
    "    return x**2 - 6\n",
    "\n",
    "def fun_der (x):\n",
    "    return 2*x\n",
    "\n",
    "print(metodo_newton(fun, fun_der,1, 0.001,20))"
   ]
  },
  {
   "cell_type": "markdown",
   "metadata": {},
   "source": [
    "### Ejercicio 7.\n",
    "Utilice Xo=1 y determina la raíz con un error de 0.01 de la función 2 sen πx+x=0."
   ]
  },
  {
   "cell_type": "code",
   "execution_count": 131,
   "metadata": {},
   "outputs": [
    {
     "name": "stdout",
     "output_type": "stream",
     "text": [
      "  iter.       xi      f(xi)     f´(xi)     xi+1     Error   \n",
      "    1      1.00000   1.00000   -5.28319  1.18928   0.15915  \n",
      "    2      1.18928   0.06886   -4.20468  1.20566   0.01358  \n",
      "    3      1.20566   0.00152   -4.01678  1.20603   0.00031  \n",
      "\n",
      "\tEl valor de la raiz (aproximadamente) es: 1.20603\n"
     ]
    }
   ],
   "source": [
    "import math\n",
    "def fun(x):\n",
    "    return 2*math.sin(math.pi*x)+x\n",
    "\n",
    "def fun_der (x):\n",
    "    return 2*math.pi*math.cos(math.pi*x)+1\n",
    "\n",
    "print(metodo_newton(fun, fun_der,1, 0.01,20))"
   ]
  },
  {
   "cell_type": "markdown",
   "metadata": {},
   "source": [
    "### Ejercicio 8. \n",
    "Sea f(x)=-x^3-cos⁡x, y utilice x0=-1 para determinar la raíz, considere un error del 0.001"
   ]
  },
  {
   "cell_type": "code",
   "execution_count": 132,
   "metadata": {},
   "outputs": [
    {
     "name": "stdout",
     "output_type": "stream",
     "text": [
      "  iter.       xi      f(xi)     f´(xi)     xi+1     Error   \n",
      "    1      -1.00000  0.45970   -3.84147  -0.88033  0.13593  \n",
      "    2      -0.88033  0.04535   -3.09591  -0.86568  0.01692  \n",
      "    3      -0.86568  0.00063   -3.00977  -0.86547  0.00024  \n",
      "\n",
      "\tEl valor de la raiz (aproximadamente) es: -0.86547\n"
     ]
    }
   ],
   "source": [
    "def fun(x):\n",
    "    return -math.cos(x)-x**3\n",
    "\n",
    "def fun_der (x):\n",
    "    return -3*x**2+ math.sin(x)\n",
    "\n",
    "print(metodo_newton(fun, fun_der,-1, 0.001,20))"
   ]
  },
  {
   "cell_type": "markdown",
   "metadata": {},
   "source": [
    "## Metodo de la Secante - Ejercicios"
   ]
  },
  {
   "cell_type": "code",
   "execution_count": 133,
   "metadata": {},
   "outputs": [],
   "source": [
    "\n",
    "def getError(xf, xi):\n",
    "    return abs((xf-xi)/xf)\n",
    "\n",
    "def metodo_secante(fun,x0, x1, error, iteraciones):\n",
    "    e = 1\n",
    "    i=0\n",
    "    print('{:^10}{:^15}{:^15}{:^15}{:^15}{:^15}{:^15}'.format('iter.','x0','x1','f(x0)','f(x1)','xi+1','Error'))\n",
    "    while (i < iteraciones):\n",
    "        p0=fun(x0)\n",
    "        p1=fun(x1)\n",
    "        solucion=x1-((p1*(x0-x1))/(p0-p1))\n",
    "        e= getError(solucion, x1)\n",
    "        print('{:^10}{:^15.4f}{:^15.5f}{:^15.5f}{:^15.5f}{:^15.5f}{:^15.5f}'.format((i+1),x0,x1,p0,p1,solucion,e))\n",
    "        if e<error:\n",
    "            return \"\\n\\tEl valor de la raiz (aproximadamente) es: \"+ str(solucion)\n",
    "            break\n",
    "        else:\n",
    "            x0=x1\n",
    "            x1=solucion\n",
    "            i+=1\n",
    "    return \"Con \" + str(i)+ \"iteraciones, la raiz es: \" + str(solucion)\n",
    "        "
   ]
  },
  {
   "cell_type": "markdown",
   "metadata": {},
   "source": [
    "### Ejercicio 9. \n",
    "Sea f(x)=-x^3-cos⁡x, y utilice x0=-1, x1=1 para determinar la raíz, considere un error del 0.001"
   ]
  },
  {
   "cell_type": "code",
   "execution_count": 134,
   "metadata": {},
   "outputs": [
    {
     "name": "stdout",
     "output_type": "stream",
     "text": [
      "  iter.         x0             x1            f(x0)          f(x1)          xi+1           Error     \n",
      "    1         -1.0000        1.00000        0.45970       -1.54030       -0.54030        2.85082    \n",
      "    2         1.0000        -0.54030       -1.54030       -0.69982       -1.82284        0.70359    \n",
      "    3         -0.5403       -1.82284       -0.69982        6.30618       -0.66841        1.72711    \n",
      "    4         -1.8228       -0.66841        6.30618       -0.48617       -0.75104        0.11002    \n",
      "    5         -0.6684       -0.75104       -0.48617       -0.30734       -0.89305        0.15901    \n",
      "    6         -0.7510       -0.89305       -0.30734        0.08520       -0.86223        0.03575    \n",
      "    7         -0.8930       -0.86223        0.08520       -0.00974       -0.86539        0.00365    \n",
      "    8         -0.8622       -0.86539       -0.00974       -0.00026       -0.86547        0.00010    \n",
      "\n",
      "\tEl valor de la raiz (aproximadamente) es: -0.8654743032026917\n"
     ]
    }
   ],
   "source": [
    "import math\n",
    "def fun(x):\n",
    "    return -math.cos(x)-x**3\n",
    "\n",
    "print(metodo_secante(fun,-1,1, 0.001,16))\n"
   ]
  },
  {
   "cell_type": "markdown",
   "metadata": {},
   "source": [
    "### Ejercicio 10. \n",
    "Sea f(x)= tanπx-6, y utilice x0=0, x1=0.44 para determinar la raíz, considere un error del 0.001."
   ]
  },
  {
   "cell_type": "code",
   "execution_count": 135,
   "metadata": {},
   "outputs": [
    {
     "name": "stdout",
     "output_type": "stream",
     "text": [
      "  iter.         x0             x1            f(x0)          f(x1)          xi+1           Error     \n",
      "    1         0.0000         0.44000       -6.00000       -0.75782        0.50361        0.12630    \n",
      "    2         0.4400         0.50361       -0.75782       -94.24566       0.43948        0.14590    \n",
      "    3         0.5036         0.43948       -94.24566      -0.80356        0.43893        0.00126    \n",
      "    4         0.4395         0.43893       -0.80356       -0.85164        0.44870        0.02177    \n",
      "    5         0.4389         0.44870       -0.85164        0.15114        0.44723        0.00329    \n",
      "    6         0.4487         0.44723        0.15114       -0.02351        0.44743        0.00044    \n",
      "\n",
      "\tEl valor de la raiz (aproximadamente) es: 0.44742668456292634\n"
     ]
    }
   ],
   "source": [
    "import math\n",
    "def fun(x):\n",
    "    return math.tan(math.pi*x)-6\n",
    "\n",
    "print(metodo_secante(fun,0,0.44, 0.001,16))"
   ]
  },
  {
   "cell_type": "code",
   "execution_count": null,
   "metadata": {},
   "outputs": [],
   "source": []
  }
 ],
 "metadata": {
  "kernelspec": {
   "display_name": "Python 3",
   "language": "python",
   "name": "python3"
  },
  "language_info": {
   "codemirror_mode": {
    "name": "ipython",
    "version": 3
   },
   "file_extension": ".py",
   "mimetype": "text/x-python",
   "name": "python",
   "nbconvert_exporter": "python",
   "pygments_lexer": "ipython3",
   "version": "3.8.5"
  }
 },
 "nbformat": 4,
 "nbformat_minor": 4
}
